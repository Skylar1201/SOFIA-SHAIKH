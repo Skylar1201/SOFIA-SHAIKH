{
 "cells": [
  {
   "cell_type": "code",
   "execution_count": 1,
   "id": "0f230de5",
   "metadata": {},
   "outputs": [
    {
     "name": "stdout",
     "output_type": "stream",
     "text": [
      "hello World\n"
     ]
    }
   ],
   "source": [
    "print(\"hello World\")"
   ]
  },
  {
   "cell_type": "code",
   "execution_count": 2,
   "id": "74f9b8fa",
   "metadata": {},
   "outputs": [
    {
     "ename": "NameError",
     "evalue": "name 'sofia' is not defined",
     "output_type": "error",
     "traceback": [
      "\u001b[1;31m---------------------------------------------------------------------------\u001b[0m",
      "\u001b[1;31mNameError\u001b[0m                                 Traceback (most recent call last)",
      "Cell \u001b[1;32mIn[2], line 1\u001b[0m\n\u001b[1;32m----> 1\u001b[0m \u001b[38;5;28mprint\u001b[39m(\u001b[43msofia\u001b[49m)\n",
      "\u001b[1;31mNameError\u001b[0m: name 'sofia' is not defined"
     ]
    }
   ],
   "source": [
    "print(sofia)"
   ]
  },
  {
   "cell_type": "code",
   "execution_count": 3,
   "id": "0fad7f32",
   "metadata": {},
   "outputs": [
    {
     "name": "stdout",
     "output_type": "stream",
     "text": [
      "good morining\n"
     ]
    }
   ],
   "source": [
    "print(\"good morining\")"
   ]
  },
  {
   "cell_type": "code",
   "execution_count": 4,
   "id": "15ec1f63",
   "metadata": {},
   "outputs": [
    {
     "name": "stdout",
     "output_type": "stream",
     "text": [
      "Sofia Tango\n"
     ]
    }
   ],
   "source": [
    "print(\"Sofia Tango\")"
   ]
  },
  {
   "cell_type": "code",
   "execution_count": 5,
   "id": "2115dad5",
   "metadata": {},
   "outputs": [
    {
     "ename": "SyntaxError",
     "evalue": "invalid syntax. Perhaps you forgot a comma? (3539645354.py, line 1)",
     "output_type": "error",
     "traceback": [
      "\u001b[1;36m  Cell \u001b[1;32mIn[5], line 1\u001b[1;36m\u001b[0m\n\u001b[1;33m    print(jackson sofia sky)\u001b[0m\n\u001b[1;37m          ^\u001b[0m\n\u001b[1;31mSyntaxError\u001b[0m\u001b[1;31m:\u001b[0m invalid syntax. Perhaps you forgot a comma?\n"
     ]
    }
   ],
   "source": [
    "print(jackson sofia sky)"
   ]
  },
  {
   "cell_type": "code",
   "execution_count": 6,
   "id": "f3842c45",
   "metadata": {},
   "outputs": [
    {
     "name": "stdout",
     "output_type": "stream",
     "text": [
      "sofia jackson crasto\n"
     ]
    }
   ],
   "source": [
    "print(\"sofia jackson crasto\")"
   ]
  },
  {
   "cell_type": "code",
   "execution_count": 7,
   "id": "670a890e",
   "metadata": {},
   "outputs": [
    {
     "ename": "SyntaxError",
     "evalue": "Missing parentheses in call to 'print'. Did you mean print(...)? (58250192.py, line 1)",
     "output_type": "error",
     "traceback": [
      "\u001b[1;36m  Cell \u001b[1;32mIn[7], line 1\u001b[1;36m\u001b[0m\n\u001b[1;33m    print\"jackson\"\u001b[0m\n\u001b[1;37m    ^\u001b[0m\n\u001b[1;31mSyntaxError\u001b[0m\u001b[1;31m:\u001b[0m Missing parentheses in call to 'print'. Did you mean print(...)?\n"
     ]
    }
   ],
   "source": [
    "print\"jackson\""
   ]
  },
  {
   "cell_type": "code",
   "execution_count": 8,
   "id": "ad9fb026",
   "metadata": {},
   "outputs": [
    {
     "ename": "TypeError",
     "evalue": "'builtin_function_or_method' object is not subscriptable",
     "output_type": "error",
     "traceback": [
      "\u001b[1;31m---------------------------------------------------------------------------\u001b[0m",
      "\u001b[1;31mTypeError\u001b[0m                                 Traceback (most recent call last)",
      "Cell \u001b[1;32mIn[8], line 1\u001b[0m\n\u001b[1;32m----> 1\u001b[0m \u001b[38;5;28;43mprint\u001b[39;49m\u001b[43m[\u001b[49m\u001b[38;5;124;43m\"\u001b[39;49m\u001b[38;5;124;43msofia jackson\u001b[39;49m\u001b[38;5;124;43m\"\u001b[39;49m\u001b[43m]\u001b[49m\n",
      "\u001b[1;31mTypeError\u001b[0m: 'builtin_function_or_method' object is not subscriptable"
     ]
    }
   ],
   "source": [
    "print[\"sofia jackson\"]"
   ]
  },
  {
   "cell_type": "code",
   "execution_count": 9,
   "id": "39fa6107",
   "metadata": {},
   "outputs": [
    {
     "name": "stdout",
     "output_type": "stream",
     "text": [
      "sofia jackson\n"
     ]
    }
   ],
   "source": [
    "print(\"sofia jackson\")"
   ]
  },
  {
   "cell_type": "code",
   "execution_count": 10,
   "id": "f36cc781",
   "metadata": {},
   "outputs": [
    {
     "name": "stdout",
     "output_type": "stream",
     "text": [
      "Sofia jacksom\n"
     ]
    }
   ],
   "source": [
    "print(\"Sofia jacksom\")"
   ]
  },
  {
   "cell_type": "code",
   "execution_count": 12,
   "id": "db58cd98",
   "metadata": {},
   "outputs": [
    {
     "name": "stdout",
     "output_type": "stream",
     "text": [
      "SOFIA JACKSON\n"
     ]
    }
   ],
   "source": [
    "print(\"SOFIA JACKSON\")"
   ]
  },
  {
   "cell_type": "code",
   "execution_count": 13,
   "id": "792d2639",
   "metadata": {
    "scrolled": true
   },
   "outputs": [
    {
     "name": "stdout",
     "output_type": "stream",
     "text": [
      "sofia shaikh crasto\n"
     ]
    }
   ],
   "source": [
    "print(\"sofia shaikh crasto\")"
   ]
  },
  {
   "cell_type": "code",
   "execution_count": 14,
   "id": "20942135",
   "metadata": {},
   "outputs": [
    {
     "name": "stdout",
     "output_type": "stream",
     "text": [
      "15\n"
     ]
    }
   ],
   "source": [
    "x=5\n",
    "y=10\n",
    "print(x+y)"
   ]
  },
  {
   "cell_type": "code",
   "execution_count": 16,
   "id": "9cec9e83",
   "metadata": {},
   "outputs": [
    {
     "name": "stdout",
     "output_type": "stream",
     "text": [
      "0.5\n"
     ]
    }
   ],
   "source": [
    "x=1000\n",
    "y=2000\n",
    "print(x/y)"
   ]
  },
  {
   "cell_type": "code",
   "execution_count": 18,
   "id": "4e312bb1",
   "metadata": {},
   "outputs": [
    {
     "name": "stdout",
     "output_type": "stream",
     "text": [
      "90000\n"
     ]
    }
   ],
   "source": [
    "a=50000\n",
    "b=40000\n",
    "print(a+b)"
   ]
  },
  {
   "cell_type": "code",
   "execution_count": 20,
   "id": "cf778f08",
   "metadata": {},
   "outputs": [
    {
     "name": "stdout",
     "output_type": "stream",
     "text": [
      "42000.0\n"
     ]
    }
   ],
   "source": [
    "x=21.00\n",
    "y=2000\n",
    "print(x*y)"
   ]
  },
  {
   "cell_type": "code",
   "execution_count": null,
   "id": "dee04a28",
   "metadata": {},
   "outputs": [],
   "source": []
  }
 ],
 "metadata": {
  "kernelspec": {
   "display_name": "Python 3 (ipykernel)",
   "language": "python",
   "name": "python3"
  },
  "language_info": {
   "codemirror_mode": {
    "name": "ipython",
    "version": 3
   },
   "file_extension": ".py",
   "mimetype": "text/x-python",
   "name": "python",
   "nbconvert_exporter": "python",
   "pygments_lexer": "ipython3",
   "version": "3.10.9"
  }
 },
 "nbformat": 4,
 "nbformat_minor": 5
}
